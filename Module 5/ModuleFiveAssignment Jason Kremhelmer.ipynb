{
 "cells": [
  {
   "cell_type": "code",
   "execution_count": 38,
   "metadata": {
    "scrolled": true
   },
   "outputs": [
    {
     "data": {
      "text/html": [
       "<div>\n",
       "  <iframe src=\"/app/endpoints/6b4c3c1462b0442dab9faa7a8c240493/\" width=800 height=600 frameborder=\"0\"></iframe>\n",
       "  <hr/><a href=\"/app/endpoints/6b4c3c1462b0442dab9faa7a8c240493/\" target=\"_new\">Open in new window</a> for /app/endpoints/6b4c3c1462b0442dab9faa7a8c240493/\n",
       "</div>"
      ],
      "text/plain": [
       "<jupyter_plotly_dash.dash_wrapper.JupyterDash at 0x7f789aa72e10>"
      ]
     },
     "execution_count": 38,
     "metadata": {},
     "output_type": "execute_result"
    }
   ],
   "source": [
    "from jupyter_plotly_dash import JupyterDash\n",
    "import dash_core_components as dcc\n",
    "import dash_html_components as html\n",
    "import dash\n",
    "from dash.dependencies import Input, Output\n",
    "from pymongo import MongoClient\n",
    "import urllib.parse\n",
    "from bson.json_util import dumps, JSONOptions\n",
    "\n",
    "\n",
    "#TODO: import for their CRUD module\n",
    "from CRUD import AnimalShelter\n",
    "\n",
    "# this is a juypter dash application\n",
    "app = JupyterDash('ModuleFive')\n",
    "\n",
    "# the application interfaces are declared here\n",
    "# this application has two input boxes, a submit button, a horizontal line and div for output\n",
    "app.layout = html.Div(\n",
    "    [\n",
    "        html.H1('SNHU 340 Dashboard Module 5'),      \n",
    "        dcc.Input(\n",
    "            id=\"input_user\".format(\"text\"),\n",
    "            type=\"text\",\n",
    "            placeholder=\"Username\"),\n",
    "        dcc.Input(\n",
    "            id=\"input_passwd\".format(\"password\"),\n",
    "            type=\"password\",\n",
    "            placeholder=\"Password\"),\n",
    "        html.Button('Execute', id='submit-val', n_clicks=0),\n",
    "        \n",
    "    html.Hr(),\n",
    "    html.Div(id=\"query-out\"),\n",
    "    #TODO: insert unique identifier code here]\n",
    "    html.H6('Jason Kremhelmer MongoDB Authentication')\n",
    "        ])\n",
    "\n",
    "# this is area to define application responses or callback routines\n",
    "# this one callback will take the entered text and if the submit button is clicked then call the \n",
    "#  mongo database with the find_one query and return the result to the output div\n",
    "@app.callback(\n",
    "    Output(\"query-out\", \"children\"),\n",
    "    [Input(\"input_user\".format(\"text\"), \"value\"), \n",
    "     Input(\"input_passwd\".format(\"password\"),\"value\"),\n",
    "     Input('submit-val', 'n_clicks')],\n",
    "    [dash.dependencies.State('input_passwd', 'value')]\n",
    ")\n",
    "def cb_render(userValue,passValue,n_clicks,buttonValue):\n",
    "    if n_clicks > 0:\n",
    "        ###########################\n",
    "        # Data Manipulation / Model\n",
    "        # use CRUD module to access MongoDB\n",
    "        ##########################\n",
    "        username = urllib.parse.quote_plus(userValue)\n",
    "        password = urllib.parse.quote_plus(passValue)     \n",
    "   \n",
    "        #TODO: Instantiate CRUD object with above authentication username and password values\n",
    "        #client = MongoClient('mongodb://%s:%s@localhost:41439/?authSource=AAC' % (username, password))\n",
    "        #dataBase = client['AAC']\n",
    "        \n",
    "        animals = AnimalShelter(password, username)\n",
    "\n",
    "        # note that MongoDB returns BSON, the pyMongo JSON utility function dumps is used to convert to text\n",
    "        #TODO: Return example query results                \n",
    "        query = animals.getRecordCriteria({\"animal_type\": \"Dog\", \"name\": \"Lucy\"})\n",
    "               \n",
    "        #debug\n",
    "        #return 'The passed arguments are {} for US and {} for PW and button was clicked {} times'.format(\n",
    "        #    userValue,\n",
    "        #    passValue,\n",
    "        #    n_clicks\n",
    "        #)\n",
    "                        \n",
    "        return dumps(query)\n",
    "\n",
    "\n",
    "app\n"
   ]
  },
  {
   "cell_type": "code",
   "execution_count": null,
   "metadata": {},
   "outputs": [],
   "source": []
  }
 ],
 "metadata": {
  "kernelspec": {
   "display_name": "Python 3",
   "language": "python",
   "name": "python3"
  },
  "language_info": {
   "codemirror_mode": {
    "name": "ipython",
    "version": 3
   },
   "file_extension": ".py",
   "mimetype": "text/x-python",
   "name": "python",
   "nbconvert_exporter": "python",
   "pygments_lexer": "ipython3",
   "version": "3.6.9"
  }
 },
 "nbformat": 4,
 "nbformat_minor": 4
}
